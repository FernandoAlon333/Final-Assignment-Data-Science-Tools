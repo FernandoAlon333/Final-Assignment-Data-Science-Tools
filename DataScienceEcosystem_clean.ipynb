{
 "cells": [
  {
   "cell_type": "markdown",
   "id": "a1ea4e72-e830-40eb-900f-644b9edb03d4",
   "metadata": {},
   "source": [
    "# Data Science Tools and Ecosystem"
   ]
  },
  {
   "cell_type": "markdown",
   "id": "40fda949-e173-4caf-ace6-8c61a208c556",
   "metadata": {},
   "source": [
    "###### In this notebook, Data Science Tools and Ecosystem are summarized, as well as some basic arithmetic examples using code."
   ]
  },
  {
   "cell_type": "markdown",
   "id": "f67cf1bb-e3d1-4274-b20d-4365aab50353",
   "metadata": {},
   "source": [
    "__Objectives:__\n",
    "- List popular languages for Data Science\n",
    "- Categories of Data Science Tools\n",
    "- Libraries for Data Science\n",
    "- Understand what is and how to use Jupyter Notebooks and JupyterLab\n",
    "- Getting started with RStudio and GitHub"
   ]
  },
  {
   "cell_type": "markdown",
   "id": "9eca9d09-6318-47dd-81d5-f71aa7904bf7",
   "metadata": {},
   "source": [
    "Some of the popular languages that Data Scientists use are:\n",
    "1. Python\n",
    "2. R\n",
    "3. SQL\n",
    "4. Scala\n",
    "5. Java"
   ]
  },
  {
   "cell_type": "markdown",
   "id": "a2f3fa32-c835-409b-8b3d-090ba3c9297d",
   "metadata": {},
   "source": [
    "Some of the commonly used libraries used by Data Scientists include:\n",
    "1. Pandas\n",
    "2. NumPy\n",
    "3. Matplotlib\n",
    "4. Seaborn\n",
    "5. Scikit-learn\n",
    "6. TensorFlow"
   ]
  },
  {
   "cell_type": "markdown",
   "id": "ccfcdf2f-c79f-4a41-8176-4ca3478d9157",
   "metadata": {},
   "source": [
    "\n",
    "| Data Science Tools |\n",
    "| -------------|\n",
    "| Anaconda |\n",
    "| VS Code |\n",
    "| Google Colab |\n",
    "| Jupyter Notebooks |"
   ]
  },
  {
   "cell_type": "markdown",
   "id": "1b744b2a-ad7a-48fe-be70-d0188f279f8e",
   "metadata": {},
   "source": [
    "### Below are a few examples of evaluating arithmetic expressions in Python"
   ]
  },
  {
   "cell_type": "code",
   "execution_count": 1,
   "id": "a73e869e-61a8-406c-aa9f-48dba1d42863",
   "metadata": {},
   "outputs": [
    {
     "data": {
      "text/plain": [
       "17"
      ]
     },
     "execution_count": 1,
     "metadata": {},
     "output_type": "execute_result"
    }
   ],
   "source": [
    "# This a simple arithmetic expression to mutiply then add integers\n",
    "(3*4)+5"
   ]
  },
  {
   "cell_type": "code",
   "execution_count": 2,
   "id": "95d8f1b1-8638-4fa5-9dc1-eb887c6a574b",
   "metadata": {},
   "outputs": [
    {
     "name": "stdout",
     "output_type": "stream",
     "text": [
      "200 minutes equal 3.3333333333333335 hrs\n"
     ]
    }
   ],
   "source": [
    "# This will convert 200 minutes to hours by diving by 60\n",
    "x = 200/60\n",
    "print(\"200 minutes equal\", x, \"hrs\")"
   ]
  },
  {
   "cell_type": "markdown",
   "id": "8a778cda-93c1-48c0-839a-072f4af36f98",
   "metadata": {},
   "source": [
    "## Author\n",
    "\n",
    "Fernando Alonso"
   ]
  }
 ],
 "metadata": {
  "kernelspec": {
   "display_name": "Python 3 (ipykernel)",
   "language": "python",
   "name": "python3"
  },
  "language_info": {
   "codemirror_mode": {
    "name": "ipython",
    "version": 3
   },
   "file_extension": ".py",
   "mimetype": "text/x-python",
   "name": "python",
   "nbconvert_exporter": "python",
   "pygments_lexer": "ipython3",
   "version": "3.12.5"
  }
 },
 "nbformat": 4,
 "nbformat_minor": 5
}
