{
 "cells": [
  {
   "cell_type": "markdown",
   "id": "ee66c25b-4475-4c9c-9162-9b42bd16be49",
   "metadata": {},
   "source": [
    "#### Exercise 2: Create markdown cell with title of the notebook\n",
    "Create a markdown cell with the title Data Science Tools and Ecosystem using H1 style heading."
   ]
  },
  {
   "cell_type": "markdown",
   "id": "a1ea4e72-e830-40eb-900f-644b9edb03d4",
   "metadata": {},
   "source": [
    "# Data Science Tools and Ecosystem"
   ]
  },
  {
   "cell_type": "markdown",
   "id": "47e3ab21-1a75-4b4b-b773-a5fb6860c259",
   "metadata": {},
   "source": [
    "#### Exercise 3 - Create a markdown cell for an introduction\n",
    "\n",
    "Write an introductory sentence about the notebook such as the follows:\n",
    "\n",
    "In this notebook, Data Science Tools and Ecosystem are summarized"
   ]
  },
  {
   "cell_type": "markdown",
   "id": "40fda949-e173-4caf-ace6-8c61a208c556",
   "metadata": {},
   "source": [
    "###### In this notebook, Data Science Tools and Ecosystem are summarized, as well as some basic arithmetic examples using code."
   ]
  },
  {
   "cell_type": "markdown",
   "id": "439d3027-cc23-49d6-81f4-d2257510802a",
   "metadata": {},
   "source": [
    "#### Exercise 10 - Insert a markdown cell to list Objectives\n",
    "\n",
    "Below the introduction cell created in Exercise 3, insert a new markdown cell to list the objectives that this notebook covered (i.e. some of the key takeaways from the course). In this new cell start with an introductory line titled: Objectives: in bold font. Then using an unordered list (bullets) indicate 3 to 5 items covered in this notebook, such as List popular languages for Data Science."
   ]
  },
  {
   "cell_type": "markdown",
   "id": "f67cf1bb-e3d1-4274-b20d-4365aab50353",
   "metadata": {},
   "source": [
    "__Objectives:__\n",
    "- List popular languages for Data Science\n",
    "- Categories of Data Science Tools\n",
    "- Libraries for Data Science\n",
    "- Understand what is and how to use Jupyter Notebooks and JupyterLab\n",
    "- Getting started with RStudio and GitHub"
   ]
  },
  {
   "cell_type": "markdown",
   "id": "52a8f9e7-435f-4b17-a690-82ad72d3d9a2",
   "metadata": {},
   "source": [
    "#### Exercise 4 - Create a markdown cell to list data science languages\n",
    "\n",
    "Start the cell with an overview line such as:\n",
    "\n",
    "Some of the popular languages that Data Scientists use are:\n",
    "Then create an ordered list (i.e. numbered) listing 3 (or more) commonly used languages for data science."
   ]
  },
  {
   "cell_type": "markdown",
   "id": "9eca9d09-6318-47dd-81d5-f71aa7904bf7",
   "metadata": {},
   "source": [
    "Some of the popular languages that Data Scientists use are:\n",
    "1. Python\n",
    "2. R\n",
    "3. SQL\n",
    "4. Scala\n",
    "5. Java"
   ]
  },
  {
   "cell_type": "markdown",
   "id": "f5ec013e-d525-42c9-a845-156848a0ddd1",
   "metadata": {},
   "source": [
    "#### Exercise 5 - Create a markdown cell to list data science libraries\n",
    "\n",
    "Add an overview line to the cell like:\n",
    "\n",
    "Some of the commonly used libraries used by Data Scientists include:\n",
    "Below this line add an ordered list listing 3 (or more) commonly used libraries in data science."
   ]
  },
  {
   "cell_type": "markdown",
   "id": "a2f3fa32-c835-409b-8b3d-090ba3c9297d",
   "metadata": {},
   "source": [
    "Some of the commonly used libraries used by Data Scientists include:\n",
    "1. Pandas\n",
    "2. NumPy\n",
    "3. Matplotlib\n",
    "4. Seaborn\n",
    "5. Scikit-learn\n",
    "6. TensorFlow"
   ]
  },
  {
   "cell_type": "markdown",
   "id": "7b394e08-cbaf-41dd-8164-1ad84bff60ce",
   "metadata": {},
   "source": [
    "#### Exercise 6 - Create a markdown cell with a table of Data Science tools\n",
    "\n",
    "Create a single column table in this cell with the first row containing the header Data Science Tools. The subsequent three rows in the table should indicate three development environment open source tools used in data science."
   ]
  },
  {
   "cell_type": "markdown",
   "id": "ccfcdf2f-c79f-4a41-8176-4ca3478d9157",
   "metadata": {},
   "source": [
    "\n",
    "| Data Science Tools |\n",
    "| -------------|\n",
    "| Anaconda |\n",
    "| VS Code |\n",
    "| Google Colab |\n",
    "| Jupyter Notebooks |"
   ]
  },
  {
   "cell_type": "markdown",
   "id": "2285444f-e9a5-4b94-8497-35535312ea9e",
   "metadata": {},
   "source": [
    "## Exercise 7 - Create a markdown cell introducing arithmetic expression examples\n",
    "\n",
    "Add a line in this cell with H3 style heading with text like:\n",
    "\n",
    "Below are a few examples of evaluating arithmetic expressions in Python."
   ]
  },
  {
   "cell_type": "markdown",
   "id": "1b744b2a-ad7a-48fe-be70-d0188f279f8e",
   "metadata": {},
   "source": [
    "### Below are a few examples of evaluating arithmetic expressions in Python"
   ]
  },
  {
   "cell_type": "markdown",
   "id": "9c209da5-f33f-43b3-8f0b-bfd9c9e56cec",
   "metadata": {},
   "source": [
    "#### Exercise 8 - Create a code cell to multiply and add numbers\n",
    "\n",
    "In this code cell evaluate the expression (3*4)+5.\n",
    "\n",
    "Insert a comment line before the expression to explain the operation e.g.  This a simple arithmetic expression to mutiply then add integers.\n",
    "\n",
    "Then execute the cell to ensure the expression returns the expected output of 17."
   ]
  },
  {
   "cell_type": "code",
   "execution_count": 5,
   "id": "a73e869e-61a8-406c-aa9f-48dba1d42863",
   "metadata": {},
   "outputs": [
    {
     "data": {
      "text/plain": [
       "17"
      ]
     },
     "execution_count": 5,
     "metadata": {},
     "output_type": "execute_result"
    }
   ],
   "source": [
    "# This a simple arithmetic expression to mutiply then add integers\n",
    "(3*4)+5"
   ]
  },
  {
   "cell_type": "markdown",
   "id": "8e6cc622-7843-4fa1-b583-3527c508af6b",
   "metadata": {},
   "source": [
    "#### Exercise 9 - Create a code cell to convert minutes to hours\n",
    "\n",
    "In this code cell write an expression that converts 200 minutes into hours.\n",
    "\n",
    "Insert a comment line before the expression to explain the operation e.g.  This will convert 200 minutes to hours by diving by 60.\n"
   ]
  },
  {
   "cell_type": "code",
   "execution_count": 9,
   "id": "95d8f1b1-8638-4fa5-9dc1-eb887c6a574b",
   "metadata": {},
   "outputs": [
    {
     "name": "stdout",
     "output_type": "stream",
     "text": [
      "200 minutes equal 3.3333333333333335 hrs\n"
     ]
    }
   ],
   "source": [
    "# This will convert 200 minutes to hours by diving by 60\n",
    "x = 200/60\n",
    "print(\"200 minutes equal\", x, \"hrs\")"
   ]
  },
  {
   "cell_type": "markdown",
   "id": "dd74ac4a-edd2-4d36-8e30-84c8462615ff",
   "metadata": {},
   "source": [
    "#### Exercise 11 - Create a markdown cell to indicate the Author's name\n",
    "\n",
    "In this markdown cell markdown cell include the following text Author in H2 style heading. Include your name as regular text below the word Author."
   ]
  },
  {
   "cell_type": "markdown",
   "id": "8a778cda-93c1-48c0-839a-072f4af36f98",
   "metadata": {},
   "source": [
    "## Author\n",
    "\n",
    "Fernando Alonso"
   ]
  },
  {
   "cell_type": "code",
   "execution_count": null,
   "id": "a05803e0-f596-407f-96cd-839cea526391",
   "metadata": {},
   "outputs": [],
   "source": []
  }
 ],
 "metadata": {
  "kernelspec": {
   "display_name": "Python 3 (ipykernel)",
   "language": "python",
   "name": "python3"
  },
  "language_info": {
   "codemirror_mode": {
    "name": "ipython",
    "version": 3
   },
   "file_extension": ".py",
   "mimetype": "text/x-python",
   "name": "python",
   "nbconvert_exporter": "python",
   "pygments_lexer": "ipython3",
   "version": "3.12.5"
  }
 },
 "nbformat": 4,
 "nbformat_minor": 5
}
